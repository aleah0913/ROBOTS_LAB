{
 "cells": [
  {
   "cell_type": "code",
   "execution_count": null,
   "metadata": {},
   "outputs": [],
   "source": [
    "from rosbag2_reader_py import Rosbag2Reader"
   ]
  },
  {
   "cell_type": "markdown",
   "metadata": {},
   "source": [
    "## Open ROS 2 Bag\n",
    "\n",
    "**The file `rosbag2_reader_py.py` shall be in the same folder of the notebook.**"
   ]
  },
  {
   "cell_type": "code",
   "execution_count": null,
   "metadata": {},
   "outputs": [],
   "source": [
    "path = \"path/to/your/rosbag2/folder\"\n",
    "\n",
    "reader = Rosbag2Reader(path)\n",
    "topics = reader.all_topics\n",
    "topics"
   ]
  },
  {
   "cell_type": "markdown",
   "metadata": {},
   "source": [
    "## Get total number of messages in the bag"
   ]
  },
  {
   "cell_type": "code",
   "execution_count": null,
   "metadata": {},
   "outputs": [],
   "source": [
    "tot_msgs = 0\n",
    "for _ in reader:\n",
    "    tot_msgs += 1\n",
    "\n",
    "print(f\"Total messages: {tot_msgs}\")"
   ]
  },
  {
   "cell_type": "markdown",
   "metadata": {},
   "source": [
    "## Select messages of specific topics"
   ]
  },
  {
   "cell_type": "code",
   "execution_count": null,
   "metadata": {},
   "outputs": [],
   "source": [
    "tot_msgs = 0\n",
    "reader.set_filter([\"/odom\"])\n",
    "for _ in reader:\n",
    "    tot_msgs += 1\n",
    "\n",
    "print(\"After the filter is applyed: \", reader.selected_topics)\n",
    "print(f\"Total messages: {tot_msgs}\")\n",
    "\n",
    "reader.reset_filter() # if you want to read all messages after you set a filter\n",
    "print(\"After the filter is reset: \", reader.selected_topics)"
   ]
  },
  {
   "cell_type": "markdown",
   "metadata": {},
   "source": [
    "## Access only data of a given type\n",
    "\n",
    "In this example you can see  how to access an `Odometry` message checking for its type.\n",
    "\n",
    "Please, notice the difference between **recording time** and time reported in the **stamp**. This is because the message was generated at a time that does not coincide with the time the message was received and recorded. This difference in a real robot may be really small, in the order of microseconds, but for a simulation, as in the reported case, the time could be extremely different. **You shall always use `header.stamp` whenever it is available.**"
   ]
  },
  {
   "cell_type": "code",
   "execution_count": null,
   "metadata": {},
   "outputs": [],
   "source": [
    "from rclpy.time import Time\n",
    "from nav_msgs.msg import Odometry\n",
    "for topic_name, msg, t in reader:\n",
    "    print(f\"Received message of type {type(msg).__name__} on topic {topic_name} recorded at time {t}\")\n",
    "    if type(msg) is Odometry:\n",
    "        time = Time.from_msg(msg.header.stamp).nanoseconds\n",
    "        print(f\"Position (x, y) at time {time}: ({msg.pose.pose.position.x:.2f}, {msg.pose.pose.position.y:.2f})\")\n",
    "    break"
   ]
  },
  {
   "cell_type": "markdown",
   "metadata": {},
   "source": [
    "## Interpolate data to compute metrics\n",
    "\n",
    "In order to compute the metrics for `/odom` and `/ekf` topics, you have to compare the poses reported in these topic with the poses reported in topic `/ground_truth` in the same time instants. \n",
    "\n",
    "Since the data are generated from different nodes at different frequencies, the time of the various topics will be different. So, we need to interpolate ground truth data on the time scale of the topic we want to evaluate.\n",
    "\n",
    "First of all, let us save relevant data from messages in some NumPy arrays. As you can see from the output, the number of points from the two topics is different."
   ]
  },
  {
   "cell_type": "code",
   "execution_count": null,
   "metadata": {},
   "outputs": [],
   "source": [
    "import numpy as np\n",
    "from scipy.interpolate import interp1d\n",
    "\n",
    "time_gt = []\n",
    "gt_data = []\n",
    "time_odom = []\n",
    "odom_data = []\n",
    "\n",
    "for topic_name, msg, t in reader:\n",
    "    if topic_name == \"/ground_truth\":\n",
    "        time_gt.append(Time.from_msg(msg.header.stamp).nanoseconds)\n",
    "        gt_data.append((msg.pose.pose.position.x, msg.pose.pose.position.y))\n",
    "    elif topic_name == \"/odom\":\n",
    "        time_odom.append(Time.from_msg(msg.header.stamp).nanoseconds)\n",
    "        odom_data.append((msg.pose.pose.position.x, msg.pose.pose.position.y))\n",
    "\n",
    "time_gt = np.array(time_gt)\n",
    "gt_data = np.array(gt_data)\n",
    "time_odom = np.array(time_odom)\n",
    "odom_data = np.array(odom_data)\n",
    "\n",
    "print(f\"Ground truth points: {len(gt_data)}\")\n",
    "print(f\"Odometry points: {len(odom_data)}\")"
   ]
  },
  {
   "cell_type": "markdown",
   "metadata": {},
   "source": [
    "Now, let us create an interpolating function using SciPy `interp1d`."
   ]
  },
  {
   "cell_type": "code",
   "execution_count": null,
   "metadata": {},
   "outputs": [],
   "source": [
    "gt_interpol = interp1d(time_gt, gt_data, axis=0, fill_value=\"extrapolate\")\n",
    "gt_data_interp = gt_interpol(time_odom)\n",
    "print(f\"Interpolated ground truth points: {len(gt_data_interp)}\")"
   ]
  },
  {
   "cell_type": "markdown",
   "metadata": {},
   "source": [
    "Compute Mean Absolute Error between odometry data and interpolated ground truth. You can find already implemented metrics functionson Portale della Didattica (Lecture_notebooks/Gaussian_filters.zip/utils.py)"
   ]
  },
  {
   "cell_type": "code",
   "execution_count": null,
   "metadata": {},
   "outputs": [],
   "source": [
    "np.mean(np.linalg.norm(odom_data - gt_data_interp, axis=1), axis=0)"
   ]
  }
 ],
 "metadata": {
  "kernelspec": {
   "display_name": "Python 3",
   "language": "python",
   "name": "python3"
  },
  "language_info": {
   "codemirror_mode": {
    "name": "ipython",
    "version": 3
   },
   "file_extension": ".py",
   "mimetype": "text/x-python",
   "name": "python",
   "nbconvert_exporter": "python",
   "pygments_lexer": "ipython3",
   "version": "3.10.12"
  }
 },
 "nbformat": 4,
 "nbformat_minor": 2
}
